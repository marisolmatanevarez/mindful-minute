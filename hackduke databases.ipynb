{
 "cells": [
  {
   "cell_type": "code",
   "execution_count": 2,
   "id": "1c4b873c",
   "metadata": {},
   "outputs": [
    {
     "data": {
      "text/html": [
       "<div>\n",
       "<style scoped>\n",
       "    .dataframe tbody tr th:only-of-type {\n",
       "        vertical-align: middle;\n",
       "    }\n",
       "\n",
       "    .dataframe tbody tr th {\n",
       "        vertical-align: top;\n",
       "    }\n",
       "\n",
       "    .dataframe thead th {\n",
       "        text-align: right;\n",
       "    }\n",
       "</style>\n",
       "<table border=\"1\" class=\"dataframe\">\n",
       "  <thead>\n",
       "    <tr style=\"text-align: right;\">\n",
       "      <th></th>\n",
       "      <th>quote</th>\n",
       "      <th>author</th>\n",
       "      <th>category</th>\n",
       "      <th>filtered</th>\n",
       "    </tr>\n",
       "  </thead>\n",
       "  <tbody>\n",
       "    <tr>\n",
       "      <th>0</th>\n",
       "      <td>You've gotta dance like there's nobody watchin...</td>\n",
       "      <td>William W. Purkey</td>\n",
       "      <td>dance, heaven, hurt, inspirational, life, love...</td>\n",
       "      <td>True</td>\n",
       "    </tr>\n",
       "    <tr>\n",
       "      <th>1</th>\n",
       "      <td>Darkness cannot drive out darkness: only light...</td>\n",
       "      <td>Martin Luther King Jr., A Testament of Hope: T...</td>\n",
       "      <td>darkness, drive-out, hate, inspirational, ligh...</td>\n",
       "      <td>True</td>\n",
       "    </tr>\n",
       "    <tr>\n",
       "      <th>2</th>\n",
       "      <td>We accept the love we think we deserve.</td>\n",
       "      <td>Stephen Chbosky, The Perks of Being a Wallflower</td>\n",
       "      <td>inspirational, love</td>\n",
       "      <td>True</td>\n",
       "    </tr>\n",
       "    <tr>\n",
       "      <th>3</th>\n",
       "      <td>The opposite of love is not hate, it's indiffe...</td>\n",
       "      <td>Elie Wiesel</td>\n",
       "      <td>activism, apathy, hate, indifference, inspirat...</td>\n",
       "      <td>True</td>\n",
       "    </tr>\n",
       "    <tr>\n",
       "      <th>4</th>\n",
       "      <td>This life is what you make it. No matter what,...</td>\n",
       "      <td>Marilyn Monroe</td>\n",
       "      <td>attributed-no-source, friends, heartbreak, ins...</td>\n",
       "      <td>True</td>\n",
       "    </tr>\n",
       "  </tbody>\n",
       "</table>\n",
       "</div>"
      ],
      "text/plain": [
       "                                               quote  \\\n",
       "0  You've gotta dance like there's nobody watchin...   \n",
       "1  Darkness cannot drive out darkness: only light...   \n",
       "2            We accept the love we think we deserve.   \n",
       "3  The opposite of love is not hate, it's indiffe...   \n",
       "4  This life is what you make it. No matter what,...   \n",
       "\n",
       "                                              author  \\\n",
       "0                                  William W. Purkey   \n",
       "1  Martin Luther King Jr., A Testament of Hope: T...   \n",
       "2   Stephen Chbosky, The Perks of Being a Wallflower   \n",
       "3                                        Elie Wiesel   \n",
       "4                                     Marilyn Monroe   \n",
       "\n",
       "                                            category  filtered  \n",
       "0  dance, heaven, hurt, inspirational, life, love...      True  \n",
       "1  darkness, drive-out, hate, inspirational, ligh...      True  \n",
       "2                                inspirational, love      True  \n",
       "3  activism, apathy, hate, indifference, inspirat...      True  \n",
       "4  attributed-no-source, friends, heartbreak, ins...      True  "
      ]
     },
     "execution_count": 2,
     "metadata": {},
     "output_type": "execute_result"
    }
   ],
   "source": [
    "import pandas as pd\n",
    "import random \n",
    "\n",
    "quotes = pd.read_csv(\"quotes_filtered.csv\")\n",
    "quotes.head()"
   ]
  },
  {
   "cell_type": "code",
   "execution_count": 29,
   "id": "830f56f7",
   "metadata": {},
   "outputs": [
    {
     "name": "stdout",
     "output_type": "stream",
     "text": [
      "Inspirational Quote of the Day: Don't let what you cannot do interfere with what you can do.  — John Wooden\n"
     ]
    }
   ],
   "source": [
    "# quotes[\"filtered\"] = quotes[\"category\"].str.contains(\"inspirational\")\n",
    "# fil = quotes[quotes[\"filtered\"]==True]\n",
    "# fil = fil.reset_index(drop=True)\n",
    "\n",
    "memes = pd.read_json(\"meme_urls.json\")\n",
    "memes.head()\n",
    "memes = memes.reset_index(drop=True)\n",
    "\n",
    "def generatemessage():\n",
    "    choice = random.randint(0,9)\n",
    "    if choice == 0 or choice == 3 or choice == 4 or choice == 5:\n",
    "        i = random.randint(0, quotes.shape[0])\n",
    "        b = \"Inspirational Quote of the Day: \" + quotes[\"quote\"][i] + \" — \" + quotes[\"author\"][i]\n",
    "    if choice == 1 or choice == 7 or choice == 6 or choice == 8 or choice ==9:\n",
    "        m = random.randint(0, memes.shape[0])\n",
    "        b = memes[0][m]\n",
    "    if choice == 2: \n",
    "        g = random.randint(0,2)\n",
    "        lst = [\"remember to hydrate & take a break if you need one :)\",\"hydrate or diedrate\",\"is it time for a 15 minute break yet?\"]\n",
    "        b = lst[g]\n",
    "    return b \n",
    "\n",
    "print(generatemessage())"
   ]
  },
  {
   "cell_type": "code",
   "execution_count": null,
   "id": "027bbd93",
   "metadata": {},
   "outputs": [],
   "source": []
  },
  {
   "cell_type": "code",
   "execution_count": null,
   "id": "c607c866",
   "metadata": {},
   "outputs": [],
   "source": []
  }
 ],
 "metadata": {
  "kernelspec": {
   "display_name": "Python 3 (ipykernel)",
   "language": "python",
   "name": "python3"
  },
  "language_info": {
   "codemirror_mode": {
    "name": "ipython",
    "version": 3
   },
   "file_extension": ".py",
   "mimetype": "text/x-python",
   "name": "python",
   "nbconvert_exporter": "python",
   "pygments_lexer": "ipython3",
   "version": "3.9.12"
  }
 },
 "nbformat": 4,
 "nbformat_minor": 5
}
